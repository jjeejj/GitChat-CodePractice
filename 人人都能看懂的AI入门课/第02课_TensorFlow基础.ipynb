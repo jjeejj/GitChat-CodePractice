{
  "nbformat": 4,
  "nbformat_minor": 0,
  "metadata": {
    "colab": {
      "name": "第02课-TensorFlow基础.ipynb",
      "version": "0.3.2",
      "provenance": [],
      "collapsed_sections": []
    },
    "kernelspec": {
      "name": "python3",
      "display_name": "Python 3"
    }
  },
  "cells": [
    {
      "cell_type": "code",
      "metadata": {
        "id": "ACBua9XxRXmS",
        "colab_type": "code",
        "colab": {}
      },
      "source": [
        "import tensorflow as tf\n",
        "# 创建一个常量v1 一行两列的矩阵\n",
        "v1 = tf.constant([[2, 3]])"
      ],
      "execution_count": 0,
      "outputs": []
    },
    {
      "cell_type": "code",
      "metadata": {
        "id": "9UNeKNiRTxs5",
        "colab_type": "code",
        "colab": {}
      },
      "source": [
        "# 创建一个常量 v2 两行一列\n",
        "v2 = tf.constant([[2], [1]])"
      ],
      "execution_count": 0,
      "outputs": []
    },
    {
      "cell_type": "code",
      "metadata": {
        "id": "AXTt8MdeUKR-",
        "colab_type": "code",
        "colab": {}
      },
      "source": [
        "#  创建一个矩阵乘法\n",
        "product = tf.matmul(v1, v2)"
      ],
      "execution_count": 0,
      "outputs": []
    },
    {
      "cell_type": "code",
      "metadata": {
        "id": "2kFRSP8RUwHR",
        "colab_type": "code",
        "outputId": "09878266-b666-4083-e778-a8be16f9145c",
        "colab": {
          "base_uri": "https://localhost:8080/",
          "height": 34
        }
      },
      "source": [
        "# 打印 proruct\n",
        "print(product)"
      ],
      "execution_count": 0,
      "outputs": [
        {
          "output_type": "stream",
          "text": [
            "Tensor(\"MatMul:0\", shape=(1, 1), dtype=int32)\n"
          ],
          "name": "stdout"
        }
      ]
    },
    {
      "cell_type": "code",
      "metadata": {
        "id": "KBf-LLckU24i",
        "colab_type": "code",
        "outputId": "71635ba2-806d-4069-e3fb-510959b0671c",
        "colab": {
          "base_uri": "https://localhost:8080/",
          "height": 34
        }
      },
      "source": [
        "# 定义一个会话\n",
        "session = tf.Session()\n",
        "# 运算乘法矩阵\n",
        "result = session.run(product)\n",
        "print('result', result)\n",
        "\n",
        "session.close()"
      ],
      "execution_count": 0,
      "outputs": [
        {
          "output_type": "stream",
          "text": [
            "result [[7]]\n"
          ],
          "name": "stdout"
        }
      ]
    },
    {
      "cell_type": "code",
      "metadata": {
        "id": "aYmwHCH7Ve_B",
        "colab_type": "code",
        "outputId": "99b17d2d-a80b-43aa-f067-afa3548e6d6d",
        "colab": {
          "base_uri": "https://localhost:8080/",
          "height": 119
        }
      },
      "source": [
        "# 创建一个变量，并用 for 循环对变量进行赋值操作\n",
        "\n",
        "# 创建一个变量 num\n",
        "num = tf.Variable(0, name='count')\n",
        "# 创建一个加法操作，把当前数加1\n",
        "new_value = tf.add(num, 1)\n",
        "# 创建一个赋值操作，把 new)value 赋值给 num\n",
        "op = tf.assign(num, new_value)\n",
        "\n",
        "with tf.Session() as session:\n",
        "    # 初始化变量\n",
        "    session.run(tf.global_variables_initializer())\n",
        "    # 打印最初的num值\n",
        "    print(session.run(num))\n",
        "    for i in range(5):\n",
        "        session.run(op)\n",
        "        print(session.run(num))"
      ],
      "execution_count": 0,
      "outputs": [
        {
          "output_type": "stream",
          "text": [
            "0\n",
            "1\n",
            "2\n",
            "3\n",
            "4\n",
            "5\n"
          ],
          "name": "stdout"
        }
      ]
    },
    {
      "cell_type": "code",
      "metadata": {
        "id": "4OwyJcxAd5vV",
        "colab_type": "code",
        "outputId": "077d7a0a-6171-4ea9-c681-c015d4639a87",
        "colab": {
          "base_uri": "https://localhost:8080/",
          "height": 34
        }
      },
      "source": [
        "# 通过 feed 设置 placeholder 的值\n",
        "# 创建一个占位符变量 input1\n",
        "input1 = tf.placeholder(tf.float32)\n",
        "# 创建一个占位符变量 input2\n",
        "input2 = tf.placeholder(tf.float32)\n",
        "# 创建一个加法器，把 input1 和 input2 加起来\n",
        "new_value = tf.multiply(input1, input2)\n",
        "with tf.Session() as session:\n",
        "    print(session.run(new_value, feed_dict= {input1: 12.0, input2: 23.0}))"
      ],
      "execution_count": 0,
      "outputs": [
        {
          "output_type": "stream",
          "text": [
            "276.0\n"
          ],
          "name": "stdout"
        }
      ]
    }
  ]
}