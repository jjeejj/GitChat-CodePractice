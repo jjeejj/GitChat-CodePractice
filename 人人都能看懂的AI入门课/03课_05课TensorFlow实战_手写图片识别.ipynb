{
 "cells": [
  {
   "cell_type": "code",
   "execution_count": 8,
   "metadata": {},
   "outputs": [
    {
     "name": "stdout",
     "output_type": "stream",
     "text": [
      "Python 3.6.5\r\n"
     ]
    }
   ],
   "source": [
    "!python3 --version"
   ]
  },
  {
   "cell_type": "code",
   "execution_count": 5,
   "metadata": {
    "colab": {
     "base_uri": "https://localhost:8080/",
     "height": 583
    },
    "colab_type": "code",
    "id": "1tFcfRSPMFHr",
    "outputId": "78b3b929-2747-4820-e73e-1dd518ffb329"
   },
   "outputs": [
    {
     "name": "stdout",
     "output_type": "stream",
     "text": [
      "输入数据的数量: (42000, 784)\n",
      "输入数据的维度=> 42000\n",
      "图片的长 => 205\n",
      "图片的高 => 205\n"
     ]
    }
   ],
   "source": [
    "import numpy as np\n",
    "import pandas as pd\n",
    "import tensorflow as tf\n",
    "## 加载数据集，把对输入和结果进行分开\n",
    "train = pd.read_csv('train.csv')\n",
    "images = train.iloc[:,1:].values\n",
    "labels_flat = train.iloc[:,0].values.ravel()\n",
    "\n",
    "## 对输入进行处理\n",
    "images = images.astype(np.float)\n",
    "images = np.multiply(images, 1.0 / 255.0)\n",
    "print('输入数据的数量: (%g, %g)' % images.shape)\n",
    "image_size = images.shape[0]\n",
    "print('输入数据的维度=> {0}'.format(image_size))\n",
    "image_width = image_height = np.ceil(np.sqrt(image_size)).astype(np.uint8)\n",
    "print ('图片的长 => {0}\\n图片的高 => {1}'.format(image_width,image_height))"
   ]
  },
  {
   "cell_type": "code",
   "execution_count": null,
   "metadata": {},
   "outputs": [],
   "source": []
  }
 ],
 "metadata": {
  "colab": {
   "collapsed_sections": [],
   "name": "03课-05课TensorFlow实战-手写图片识别.ipynb",
   "provenance": [],
   "version": "0.3.2"
  },
  "kernelspec": {
   "display_name": "Python 3",
   "language": "python",
   "name": "python3"
  },
  "language_info": {
   "codemirror_mode": {
    "name": "ipython",
    "version": 3
   },
   "file_extension": ".py",
   "mimetype": "text/x-python",
   "name": "python",
   "nbconvert_exporter": "python",
   "pygments_lexer": "ipython3",
   "version": "3.6.5"
  }
 },
 "nbformat": 4,
 "nbformat_minor": 1
}
